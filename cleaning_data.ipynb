{
 "cells": [
  {
   "cell_type": "code",
   "execution_count": 2,
   "metadata": {},
   "outputs": [],
   "source": [
    "#import relevant libraries\n",
    "import numpy as np\n",
    "import pandas as pd"
   ]
  },
  {
   "cell_type": "code",
   "execution_count": 3,
   "metadata": {},
   "outputs": [],
   "source": [
    "#import data\n",
    "data = pd.read_csv('Task - Client Information Survey (Cleaned).csv')"
   ]
  },
  {
   "cell_type": "code",
   "execution_count": 4,
   "metadata": {},
   "outputs": [
    {
     "data": {
      "text/html": [
       "<div>\n",
       "<style scoped>\n",
       "    .dataframe tbody tr th:only-of-type {\n",
       "        vertical-align: middle;\n",
       "    }\n",
       "\n",
       "    .dataframe tbody tr th {\n",
       "        vertical-align: top;\n",
       "    }\n",
       "\n",
       "    .dataframe thead th {\n",
       "        text-align: right;\n",
       "    }\n",
       "</style>\n",
       "<table border=\"1\" class=\"dataframe\">\n",
       "  <thead>\n",
       "    <tr style=\"text-align: right;\">\n",
       "      <th></th>\n",
       "      <th>Submission Date</th>\n",
       "      <th>Submission Time</th>\n",
       "      <th>Start Date</th>\n",
       "      <th>Start Time</th>\n",
       "      <th>End Date</th>\n",
       "      <th>End Time</th>\n",
       "      <th>Location-Latitude</th>\n",
       "      <th>Location-Longitude</th>\n",
       "      <th>Health Worker Name</th>\n",
       "      <th>User Name</th>\n",
       "      <th>...</th>\n",
       "      <th>Marriage Status</th>\n",
       "      <th>Past Pregnancy</th>\n",
       "      <th>Number of Children</th>\n",
       "      <th>Years of Education</th>\n",
       "      <th>Prior use of contraceptives?</th>\n",
       "      <th>If not - why not?</th>\n",
       "      <th>If yes - was it Safe?</th>\n",
       "      <th>If not Sayana Pr\\n</th>\n",
       "      <th>Did you self-inject?</th>\n",
       "      <th>General_Attitude</th>\n",
       "    </tr>\n",
       "  </thead>\n",
       "  <tbody>\n",
       "    <tr>\n",
       "      <th>0</th>\n",
       "      <td>14/07/2022</td>\n",
       "      <td>10:03:00</td>\n",
       "      <td>14/07/2022</td>\n",
       "      <td>10:03:00</td>\n",
       "      <td>14/07/2022</td>\n",
       "      <td>10:03:00</td>\n",
       "      <td>NaN</td>\n",
       "      <td>NaN</td>\n",
       "      <td>Shamsiyya</td>\n",
       "      <td>User_name_1</td>\n",
       "      <td>...</td>\n",
       "      <td>Married</td>\n",
       "      <td>01/06/2018</td>\n",
       "      <td>8.0</td>\n",
       "      <td>0.0</td>\n",
       "      <td>1.0</td>\n",
       "      <td>NaN</td>\n",
       "      <td>No</td>\n",
       "      <td>Depo-Provera</td>\n",
       "      <td>NaN</td>\n",
       "      <td>Child spacing</td>\n",
       "    </tr>\n",
       "    <tr>\n",
       "      <th>1</th>\n",
       "      <td>14/07/2022</td>\n",
       "      <td>10:03:00</td>\n",
       "      <td>14/07/2022</td>\n",
       "      <td>10:03:00</td>\n",
       "      <td>14/07/2022</td>\n",
       "      <td>10:03:00</td>\n",
       "      <td>NaN</td>\n",
       "      <td>NaN</td>\n",
       "      <td>Shamsiyya</td>\n",
       "      <td>User_name_2</td>\n",
       "      <td>...</td>\n",
       "      <td>Married</td>\n",
       "      <td>01/06/2021</td>\n",
       "      <td>5.0</td>\n",
       "      <td>12.0</td>\n",
       "      <td>1.0</td>\n",
       "      <td>NaN</td>\n",
       "      <td>No</td>\n",
       "      <td>NaN</td>\n",
       "      <td>NaN</td>\n",
       "      <td>She wants</td>\n",
       "    </tr>\n",
       "    <tr>\n",
       "      <th>2</th>\n",
       "      <td>14/07/2022</td>\n",
       "      <td>10:04:00</td>\n",
       "      <td>14/07/2022</td>\n",
       "      <td>10:04:00</td>\n",
       "      <td>14/07/2022</td>\n",
       "      <td>10:04:00</td>\n",
       "      <td>NaN</td>\n",
       "      <td>NaN</td>\n",
       "      <td>Shamsiyya</td>\n",
       "      <td>User_name_3</td>\n",
       "      <td>...</td>\n",
       "      <td>Married</td>\n",
       "      <td>01/11/2020</td>\n",
       "      <td>2.0</td>\n",
       "      <td>12.0</td>\n",
       "      <td>0.0</td>\n",
       "      <td>Previous Lack Desire</td>\n",
       "      <td>NaN</td>\n",
       "      <td>NaN</td>\n",
       "      <td>NaN</td>\n",
       "      <td>Child spacing\\n</td>\n",
       "    </tr>\n",
       "    <tr>\n",
       "      <th>3</th>\n",
       "      <td>14/07/2022</td>\n",
       "      <td>10:04:00</td>\n",
       "      <td>14/07/2022</td>\n",
       "      <td>10:04:00</td>\n",
       "      <td>14/07/2022</td>\n",
       "      <td>10:04:00</td>\n",
       "      <td>NaN</td>\n",
       "      <td>NaN</td>\n",
       "      <td>Shamsiyya</td>\n",
       "      <td>User_name_4</td>\n",
       "      <td>...</td>\n",
       "      <td>Married</td>\n",
       "      <td>01/07/2021</td>\n",
       "      <td>3.0</td>\n",
       "      <td>9.0</td>\n",
       "      <td>1.0</td>\n",
       "      <td>NaN</td>\n",
       "      <td>Yes</td>\n",
       "      <td>NaN</td>\n",
       "      <td>No</td>\n",
       "      <td>Child spacing</td>\n",
       "    </tr>\n",
       "    <tr>\n",
       "      <th>4</th>\n",
       "      <td>14/07/2022</td>\n",
       "      <td>10:04:00</td>\n",
       "      <td>14/07/2022</td>\n",
       "      <td>10:04:00</td>\n",
       "      <td>14/07/2022</td>\n",
       "      <td>10:04:00</td>\n",
       "      <td>NaN</td>\n",
       "      <td>NaN</td>\n",
       "      <td>Shamsiyya</td>\n",
       "      <td>User_name_5</td>\n",
       "      <td>...</td>\n",
       "      <td>Married</td>\n",
       "      <td>01/08/2021</td>\n",
       "      <td>1.0</td>\n",
       "      <td>12.0</td>\n",
       "      <td>1.0</td>\n",
       "      <td>NaN</td>\n",
       "      <td>Yes</td>\n",
       "      <td>NaN</td>\n",
       "      <td>No</td>\n",
       "      <td>She wants</td>\n",
       "    </tr>\n",
       "  </tbody>\n",
       "</table>\n",
       "<p>5 rows × 21 columns</p>\n",
       "</div>"
      ],
      "text/plain": [
       "  Submission Date Submission Time  Start Date Start Time    End Date  \\\n",
       "0      14/07/2022        10:03:00  14/07/2022   10:03:00  14/07/2022   \n",
       "1      14/07/2022        10:03:00  14/07/2022   10:03:00  14/07/2022   \n",
       "2      14/07/2022        10:04:00  14/07/2022   10:04:00  14/07/2022   \n",
       "3      14/07/2022        10:04:00  14/07/2022   10:04:00  14/07/2022   \n",
       "4      14/07/2022        10:04:00  14/07/2022   10:04:00  14/07/2022   \n",
       "\n",
       "   End Time  Location-Latitude  Location-Longitude Health Worker Name  \\\n",
       "0  10:03:00                NaN                 NaN          Shamsiyya   \n",
       "1  10:03:00                NaN                 NaN          Shamsiyya   \n",
       "2  10:04:00                NaN                 NaN          Shamsiyya   \n",
       "3  10:04:00                NaN                 NaN          Shamsiyya   \n",
       "4  10:04:00                NaN                 NaN          Shamsiyya   \n",
       "\n",
       "      User Name  ...  Marriage Status Past Pregnancy Number of Children  \\\n",
       "0  User_name_1   ...          Married     01/06/2018                8.0   \n",
       "1   User_name_2  ...          Married     01/06/2021                5.0   \n",
       "2   User_name_3  ...          Married     01/11/2020                2.0   \n",
       "3   User_name_4  ...          Married     01/07/2021                3.0   \n",
       "4   User_name_5  ...          Married     01/08/2021                1.0   \n",
       "\n",
       "   Years of Education  Prior use of contraceptives?     If not - why not?  \\\n",
       "0                 0.0                           1.0                   NaN   \n",
       "1                12.0                           1.0                   NaN   \n",
       "2                12.0                           0.0  Previous Lack Desire   \n",
       "3                 9.0                           1.0                   NaN   \n",
       "4                12.0                           1.0                   NaN   \n",
       "\n",
       "  If yes - was it Safe? If not Sayana Pr\\n Did you self-inject?  \\\n",
       "0                    No       Depo-Provera                  NaN   \n",
       "1                    No                NaN                  NaN   \n",
       "2                   NaN                NaN                  NaN   \n",
       "3                   Yes                NaN                   No   \n",
       "4                   Yes                NaN                   No   \n",
       "\n",
       "  General_Attitude  \n",
       "0   Child spacing   \n",
       "1        She wants  \n",
       "2  Child spacing\\n  \n",
       "3   Child spacing   \n",
       "4        She wants  \n",
       "\n",
       "[5 rows x 21 columns]"
      ]
     },
     "execution_count": 4,
     "metadata": {},
     "output_type": "execute_result"
    }
   ],
   "source": [
    "data.head()"
   ]
  },
  {
   "cell_type": "markdown",
   "metadata": {},
   "source": [
    "<h1 align = 'center'> Data Profiling </h1>"
   ]
  },
  {
   "cell_type": "code",
   "execution_count": 5,
   "metadata": {},
   "outputs": [
    {
     "data": {
      "text/html": [
       "<div>\n",
       "<style scoped>\n",
       "    .dataframe tbody tr th:only-of-type {\n",
       "        vertical-align: middle;\n",
       "    }\n",
       "\n",
       "    .dataframe tbody tr th {\n",
       "        vertical-align: top;\n",
       "    }\n",
       "\n",
       "    .dataframe thead th {\n",
       "        text-align: right;\n",
       "    }\n",
       "</style>\n",
       "<table border=\"1\" class=\"dataframe\">\n",
       "  <thead>\n",
       "    <tr style=\"text-align: right;\">\n",
       "      <th></th>\n",
       "      <th>Location-Latitude</th>\n",
       "      <th>Location-Longitude</th>\n",
       "      <th>Age</th>\n",
       "      <th>Number of Children</th>\n",
       "      <th>Years of Education</th>\n",
       "      <th>Prior use of contraceptives?</th>\n",
       "    </tr>\n",
       "  </thead>\n",
       "  <tbody>\n",
       "    <tr>\n",
       "      <th>count</th>\n",
       "      <td>96.000000</td>\n",
       "      <td>96.000000</td>\n",
       "      <td>321.000000</td>\n",
       "      <td>224.000000</td>\n",
       "      <td>224.000000</td>\n",
       "      <td>309.000000</td>\n",
       "    </tr>\n",
       "    <tr>\n",
       "      <th>mean</th>\n",
       "      <td>12.067725</td>\n",
       "      <td>9.302692</td>\n",
       "      <td>27.657321</td>\n",
       "      <td>4.553571</td>\n",
       "      <td>9.227679</td>\n",
       "      <td>0.834951</td>\n",
       "    </tr>\n",
       "    <tr>\n",
       "      <th>std</th>\n",
       "      <td>0.152708</td>\n",
       "      <td>0.203932</td>\n",
       "      <td>5.056649</td>\n",
       "      <td>2.916904</td>\n",
       "      <td>5.170366</td>\n",
       "      <td>0.371827</td>\n",
       "    </tr>\n",
       "    <tr>\n",
       "      <th>min</th>\n",
       "      <td>11.698344</td>\n",
       "      <td>9.156166</td>\n",
       "      <td>15.000000</td>\n",
       "      <td>1.000000</td>\n",
       "      <td>0.000000</td>\n",
       "      <td>0.000000</td>\n",
       "    </tr>\n",
       "    <tr>\n",
       "      <th>25%</th>\n",
       "      <td>12.078745</td>\n",
       "      <td>9.157896</td>\n",
       "      <td>24.000000</td>\n",
       "      <td>2.000000</td>\n",
       "      <td>6.000000</td>\n",
       "      <td>1.000000</td>\n",
       "    </tr>\n",
       "    <tr>\n",
       "      <th>50%</th>\n",
       "      <td>12.153604</td>\n",
       "      <td>9.166892</td>\n",
       "      <td>27.000000</td>\n",
       "      <td>4.000000</td>\n",
       "      <td>12.000000</td>\n",
       "      <td>1.000000</td>\n",
       "    </tr>\n",
       "    <tr>\n",
       "      <th>75%</th>\n",
       "      <td>12.154094</td>\n",
       "      <td>9.387666</td>\n",
       "      <td>31.000000</td>\n",
       "      <td>6.000000</td>\n",
       "      <td>12.000000</td>\n",
       "      <td>1.000000</td>\n",
       "    </tr>\n",
       "    <tr>\n",
       "      <th>max</th>\n",
       "      <td>12.154935</td>\n",
       "      <td>10.107844</td>\n",
       "      <td>45.000000</td>\n",
       "      <td>20.000000</td>\n",
       "      <td>42.000000</td>\n",
       "      <td>1.000000</td>\n",
       "    </tr>\n",
       "  </tbody>\n",
       "</table>\n",
       "</div>"
      ],
      "text/plain": [
       "       Location-Latitude  Location-Longitude         Age  Number of Children  \\\n",
       "count          96.000000           96.000000  321.000000          224.000000   \n",
       "mean           12.067725            9.302692   27.657321            4.553571   \n",
       "std             0.152708            0.203932    5.056649            2.916904   \n",
       "min            11.698344            9.156166   15.000000            1.000000   \n",
       "25%            12.078745            9.157896   24.000000            2.000000   \n",
       "50%            12.153604            9.166892   27.000000            4.000000   \n",
       "75%            12.154094            9.387666   31.000000            6.000000   \n",
       "max            12.154935           10.107844   45.000000           20.000000   \n",
       "\n",
       "       Years of Education  Prior use of contraceptives?  \n",
       "count          224.000000                    309.000000  \n",
       "mean             9.227679                      0.834951  \n",
       "std              5.170366                      0.371827  \n",
       "min              0.000000                      0.000000  \n",
       "25%              6.000000                      1.000000  \n",
       "50%             12.000000                      1.000000  \n",
       "75%             12.000000                      1.000000  \n",
       "max             42.000000                      1.000000  "
      ]
     },
     "execution_count": 5,
     "metadata": {},
     "output_type": "execute_result"
    }
   ],
   "source": [
    "#use the describe function to get a summary of the data\n",
    "data.describe()"
   ]
  },
  {
   "cell_type": "code",
   "execution_count": 6,
   "metadata": {},
   "outputs": [
    {
     "name": "stdout",
     "output_type": "stream",
     "text": [
      "<class 'pandas.core.frame.DataFrame'>\n",
      "RangeIndex: 494 entries, 0 to 493\n",
      "Data columns (total 21 columns):\n",
      " #   Column                        Non-Null Count  Dtype  \n",
      "---  ------                        --------------  -----  \n",
      " 0   Submission Date               427 non-null    object \n",
      " 1   Submission Time               427 non-null    object \n",
      " 2   Start Date                    409 non-null    object \n",
      " 3   Start Time                    409 non-null    object \n",
      " 4   End Date                      401 non-null    object \n",
      " 5   End Time                      401 non-null    object \n",
      " 6   Location-Latitude             96 non-null     float64\n",
      " 7   Location-Longitude            96 non-null     float64\n",
      " 8   Health Worker Name            494 non-null    object \n",
      " 9   User Name                     494 non-null    object \n",
      " 10  Age                           321 non-null    float64\n",
      " 11  Marriage Status               494 non-null    object \n",
      " 12  Past Pregnancy                320 non-null    object \n",
      " 13  Number of Children            224 non-null    float64\n",
      " 14  Years of Education            224 non-null    float64\n",
      " 15  Prior use of contraceptives?  309 non-null    float64\n",
      " 16  If not - why not?             76 non-null     object \n",
      " 17  If yes - was it Safe?         296 non-null    object \n",
      " 18  If not Sayana Pr\n",
      "             141 non-null    object \n",
      " 19  Did you self-inject?          72 non-null     object \n",
      " 20  General_Attitude              279 non-null    object \n",
      "dtypes: float64(6), object(15)\n",
      "memory usage: 81.2+ KB\n"
     ]
    }
   ],
   "source": [
    "data.info()"
   ]
  },
  {
   "cell_type": "code",
   "execution_count": 7,
   "metadata": {},
   "outputs": [
    {
     "data": {
      "text/plain": [
       "Submission Date                 13.562753\n",
       "Submission Time                 13.562753\n",
       "Start Date                      17.206478\n",
       "Start Time                      17.206478\n",
       "End Date                        18.825911\n",
       "End Time                        18.825911\n",
       "Location-Latitude               80.566802\n",
       "Location-Longitude              80.566802\n",
       "Health Worker Name               0.000000\n",
       "User Name                        0.000000\n",
       "Age                             35.020243\n",
       "Marriage Status                  0.000000\n",
       "Past Pregnancy                  35.222672\n",
       "Number of Children              54.655870\n",
       "Years of Education              54.655870\n",
       "Prior use of contraceptives?    37.449393\n",
       "If not - why not?               84.615385\n",
       "If yes - was it Safe?           40.080972\n",
       "If not Sayana Pr\\n              71.457490\n",
       "Did you self-inject?            85.425101\n",
       "General_Attitude                43.522267\n",
       "dtype: float64"
      ]
     },
     "execution_count": 7,
     "metadata": {},
     "output_type": "execute_result"
    }
   ],
   "source": [
    "#find the number of missing values in each column and calculate there percentage relative to the total number of rows\n",
    "data.isnull().sum()/len(data)*100"
   ]
  },
  {
   "cell_type": "code",
   "execution_count": 8,
   "metadata": {},
   "outputs": [
    {
     "data": {
      "application/vnd.jupyter.widget-view+json": {
       "model_id": "22e12d48d36c4809b78b4d2a742d0b5e",
       "version_major": 2,
       "version_minor": 0
      },
      "text/plain": [
       "                                             |          | [  0%]   00:00 -> (? left)"
      ]
     },
     "metadata": {},
     "output_type": "display_data"
    },
    {
     "name": "stderr",
     "output_type": "stream",
     "text": [
      "C:\\Users\\DONKAMS\\AppData\\Local\\Packages\\PythonSoftwareFoundation.Python.3.11_qbz5n2kfra8p0\\LocalCache\\local-packages\\Python311\\site-packages\\sweetviz\\from_profiling_pandas.py:65: FutureWarning:\n",
      "\n",
      "is_categorical_dtype is deprecated and will be removed in a future version. Use isinstance(dtype, CategoricalDtype) instead\n",
      "\n",
      "C:\\Users\\DONKAMS\\AppData\\Local\\Packages\\PythonSoftwareFoundation.Python.3.11_qbz5n2kfra8p0\\LocalCache\\local-packages\\Python311\\site-packages\\sweetviz\\from_profiling_pandas.py:65: FutureWarning:\n",
      "\n",
      "is_categorical_dtype is deprecated and will be removed in a future version. Use isinstance(dtype, CategoricalDtype) instead\n",
      "\n",
      "C:\\Users\\DONKAMS\\AppData\\Local\\Packages\\PythonSoftwareFoundation.Python.3.11_qbz5n2kfra8p0\\LocalCache\\local-packages\\Python311\\site-packages\\sweetviz\\from_profiling_pandas.py:65: FutureWarning:\n",
      "\n",
      "is_categorical_dtype is deprecated and will be removed in a future version. Use isinstance(dtype, CategoricalDtype) instead\n",
      "\n",
      "C:\\Users\\DONKAMS\\AppData\\Local\\Packages\\PythonSoftwareFoundation.Python.3.11_qbz5n2kfra8p0\\LocalCache\\local-packages\\Python311\\site-packages\\sweetviz\\from_profiling_pandas.py:65: FutureWarning:\n",
      "\n",
      "is_categorical_dtype is deprecated and will be removed in a future version. Use isinstance(dtype, CategoricalDtype) instead\n",
      "\n",
      "C:\\Users\\DONKAMS\\AppData\\Local\\Packages\\PythonSoftwareFoundation.Python.3.11_qbz5n2kfra8p0\\LocalCache\\local-packages\\Python311\\site-packages\\sweetviz\\from_profiling_pandas.py:65: FutureWarning:\n",
      "\n",
      "is_categorical_dtype is deprecated and will be removed in a future version. Use isinstance(dtype, CategoricalDtype) instead\n",
      "\n",
      "C:\\Users\\DONKAMS\\AppData\\Local\\Packages\\PythonSoftwareFoundation.Python.3.11_qbz5n2kfra8p0\\LocalCache\\local-packages\\Python311\\site-packages\\sweetviz\\from_profiling_pandas.py:65: FutureWarning:\n",
      "\n",
      "is_categorical_dtype is deprecated and will be removed in a future version. Use isinstance(dtype, CategoricalDtype) instead\n",
      "\n",
      "C:\\Users\\DONKAMS\\AppData\\Local\\Packages\\PythonSoftwareFoundation.Python.3.11_qbz5n2kfra8p0\\LocalCache\\local-packages\\Python311\\site-packages\\sweetviz\\from_profiling_pandas.py:65: FutureWarning:\n",
      "\n",
      "is_categorical_dtype is deprecated and will be removed in a future version. Use isinstance(dtype, CategoricalDtype) instead\n",
      "\n",
      "C:\\Users\\DONKAMS\\AppData\\Local\\Packages\\PythonSoftwareFoundation.Python.3.11_qbz5n2kfra8p0\\LocalCache\\local-packages\\Python311\\site-packages\\sweetviz\\from_profiling_pandas.py:65: FutureWarning:\n",
      "\n",
      "is_categorical_dtype is deprecated and will be removed in a future version. Use isinstance(dtype, CategoricalDtype) instead\n",
      "\n",
      "C:\\Users\\DONKAMS\\AppData\\Local\\Packages\\PythonSoftwareFoundation.Python.3.11_qbz5n2kfra8p0\\LocalCache\\local-packages\\Python311\\site-packages\\sweetviz\\from_profiling_pandas.py:65: FutureWarning:\n",
      "\n",
      "is_categorical_dtype is deprecated and will be removed in a future version. Use isinstance(dtype, CategoricalDtype) instead\n",
      "\n",
      "C:\\Users\\DONKAMS\\AppData\\Local\\Packages\\PythonSoftwareFoundation.Python.3.11_qbz5n2kfra8p0\\LocalCache\\local-packages\\Python311\\site-packages\\sweetviz\\from_profiling_pandas.py:65: FutureWarning:\n",
      "\n",
      "is_categorical_dtype is deprecated and will be removed in a future version. Use isinstance(dtype, CategoricalDtype) instead\n",
      "\n",
      "C:\\Users\\DONKAMS\\AppData\\Local\\Packages\\PythonSoftwareFoundation.Python.3.11_qbz5n2kfra8p0\\LocalCache\\local-packages\\Python311\\site-packages\\sweetviz\\from_profiling_pandas.py:65: FutureWarning:\n",
      "\n",
      "is_categorical_dtype is deprecated and will be removed in a future version. Use isinstance(dtype, CategoricalDtype) instead\n",
      "\n",
      "C:\\Users\\DONKAMS\\AppData\\Local\\Packages\\PythonSoftwareFoundation.Python.3.11_qbz5n2kfra8p0\\LocalCache\\local-packages\\Python311\\site-packages\\sweetviz\\from_profiling_pandas.py:65: FutureWarning:\n",
      "\n",
      "is_categorical_dtype is deprecated and will be removed in a future version. Use isinstance(dtype, CategoricalDtype) instead\n",
      "\n",
      "C:\\Users\\DONKAMS\\AppData\\Local\\Packages\\PythonSoftwareFoundation.Python.3.11_qbz5n2kfra8p0\\LocalCache\\local-packages\\Python311\\site-packages\\sweetviz\\from_profiling_pandas.py:65: FutureWarning:\n",
      "\n",
      "is_categorical_dtype is deprecated and will be removed in a future version. Use isinstance(dtype, CategoricalDtype) instead\n",
      "\n"
     ]
    },
    {
     "name": "stdout",
     "output_type": "stream",
     "text": [
      "Report Client Information Survey Report.html was generated! NOTEBOOK/COLAB USERS: the web browser MAY not pop up, regardless, the report IS saved in your notebook/colab files.\n"
     ]
    }
   ],
   "source": [
    "#use sweetviz to generate a report on the data\n",
    "import sweetviz as sv\n",
    "report = sv.analyze(data)\n",
    "report.show_html('Client Information Survey Report.html')\n"
   ]
  },
  {
   "cell_type": "code",
   "execution_count": 9,
   "metadata": {},
   "outputs": [
    {
     "data": {
      "text/html": [
       "\n",
       "        <iframe\n",
       "            width=\"100%\"\n",
       "            height=\"475\"\n",
       "            src=\"http://Muhammadu-Ilyas:40000/dtale/iframe/1\"\n",
       "            frameborder=\"0\"\n",
       "            allowfullscreen\n",
       "            \n",
       "        ></iframe>\n",
       "        "
      ],
      "text/plain": [
       "<IPython.lib.display.IFrame at 0x1b3dcdb9e50>"
      ]
     },
     "metadata": {},
     "output_type": "display_data"
    },
    {
     "data": {
      "text/plain": []
     },
     "execution_count": 9,
     "metadata": {},
     "output_type": "execute_result"
    }
   ],
   "source": [
    "#use dtales to generate an interactive report on the data\n",
    "import dtale\n",
    "dtale.show(data)"
   ]
  },
  {
   "cell_type": "code",
   "execution_count": 10,
   "metadata": {},
   "outputs": [],
   "source": [
    "#saev the interactive report as an html file\n",
    "dtale.show(data, ignore_duplicate=True).open_browser()"
   ]
  },
  {
   "cell_type": "code",
   "execution_count": 11,
   "metadata": {},
   "outputs": [
    {
     "data": {
      "text/plain": [
       "(494, 21)"
      ]
     },
     "execution_count": 11,
     "metadata": {},
     "output_type": "execute_result"
    }
   ],
   "source": [
    "#check the shape of the data\n",
    "data.shape"
   ]
  },
  {
   "cell_type": "code",
   "execution_count": 12,
   "metadata": {},
   "outputs": [
    {
     "data": {
      "text/plain": [
       "Index(['Submission Date', 'Submission Time', 'Start Date', 'Start Time',\n",
       "       'End Date', 'End Time', 'Location-Latitude', 'Location-Longitude',\n",
       "       'Health Worker Name', 'User Name', 'Age', 'Marriage Status',\n",
       "       'Past Pregnancy', 'Number of Children', 'Years of Education',\n",
       "       'Prior use of contraceptives?', 'If not - why not?',\n",
       "       'If yes - was it Safe?', 'If not Sayana Pr\\n', 'Did you self-inject?',\n",
       "       'General_Attitude'],\n",
       "      dtype='object')"
      ]
     },
     "execution_count": 12,
     "metadata": {},
     "output_type": "execute_result"
    }
   ],
   "source": [
    "#print out all the columns in the data\n",
    "data.columns"
   ]
  },
  {
   "cell_type": "code",
   "execution_count": 23,
   "metadata": {},
   "outputs": [
    {
     "name": "stdout",
     "output_type": "stream",
     "text": [
      "Health Worker Name ['Shamsiyya' 'Fatima' 'Aisha' 'Aliya' 'Ikhlas' 'Zainab' 'Labiba']\n",
      "Marriage Status ['Married' 'Single']\n",
      "Prior use of contraceptives? [ 1.  0. nan]\n",
      "If not - why not? [nan 'Previous Lack Desire' 'Contraceptive Access Lack' 'No Birth History'\n",
      " 'Side Effect Concern' 'Recent Childbirth Start' 'No Prior Birth'\n",
      " 'Desired Spacing' 'Childbirth Break Desire from having children'\n",
      " 'Childbirth Break Desire ' 'Interval Desire' 'Free Injection Access'\n",
      " 'ANC Staff Education' 'Free Injections Access'\n",
      " 'Past Spousal Disagreement'\n",
      " 'Childbirth Break Desire before another pregnancy' 'Lifestyle Influence'\n",
      " 'Previous Awareness Gap' 'Less Side Effects' 'Health Discussions'\n",
      " 'No specific reason' 'Recent Marriage' 'Limited Opportunity']\n",
      "If yes - was it Safe? ['No' nan 'Yes']\n",
      "If not Sayana Pr\n",
      " ['Depo-Provera' nan 'Noristerat ' 'Pills' 'Levoplant' 'Implant'\n",
      " 'Noristerat' 'Progesterone only pills' 'Combined Pills' 'IUCD' 'Jadel'\n",
      " 'Microgynon' 'Excluton']\n",
      "Did you self-inject? [nan 'No' 'Yes']\n",
      "General_Attitude ['Child spacing ' 'She wants' 'Child spacing\\n' 'Child spacing'\n",
      " 'Child spacing in between' 'Tsarin taqaita Iyali '\n",
      " 'Tsarin kayyade iyali ' 'Highly effective' 'Important'\n",
      " 'Tsarin kayyade iyali' 'Tsarin taqaita hayayyafar iyali ' 'Satisfied'\n",
      " 'Very good' 'Good' 'Fair' 'It is good' 'No idea' 'Effective' nan\n",
      " \"I don't know\" \"Don't know\" 'Nice' 'Interesting' 'Very nice' 'Great'\n",
      " 'Healthy']\n"
     ]
    },
    {
     "name": "stderr",
     "output_type": "stream",
     "text": [
      "2024-01-08 22:41:36,494 - INFO     - Executing shutdown due to inactivity...\n",
      "2024-01-08 22:41:40,971 - INFO     - Executing shutdown...\n",
      "2024-01-08 22:41:40,983 - INFO     - Not running with the Werkzeug Server, exiting by searching gc for BaseWSGIServer\n"
     ]
    }
   ],
   "source": [
    "categ_cols = ['Health Worker Name', 'Marriage Status', 'Prior use of contraceptives?', 'If not - why not?', 'If yes - was it Safe?', 'If not Sayana Pr\\n', 'Did you self-inject?', 'General_Attitude' ]\n",
    "\n",
    "#print all the unique values in each categorical column\n",
    "for col in categ_cols:\n",
    "    print(col, data[col].unique())"
   ]
  },
  {
   "cell_type": "code",
   "execution_count": 17,
   "metadata": {},
   "outputs": [
    {
     "name": "stdout",
     "output_type": "stream",
     "text": [
      "2.1.1\n"
     ]
    }
   ],
   "source": [
    "print(pd.__version__)"
   ]
  },
  {
   "cell_type": "code",
   "execution_count": 18,
   "metadata": {},
   "outputs": [
    {
     "name": "stdout",
     "output_type": "stream",
     "text": [
      "Requirement already satisfied: pandas in c:\\users\\donkams\\appdata\\local\\packages\\pythonsoftwarefoundation.python.3.11_qbz5n2kfra8p0\\localcache\\local-packages\\python311\\site-packages (2.1.1)Note: you may need to restart the kernel to use updated packages.\n",
      "\n",
      "Collecting pandas\n",
      "  Downloading pandas-2.1.4-cp311-cp311-win_amd64.whl.metadata (18 kB)\n",
      "Requirement already satisfied: numpy<2,>=1.23.2 in c:\\users\\donkams\\appdata\\local\\packages\\pythonsoftwarefoundation.python.3.11_qbz5n2kfra8p0\\localcache\\local-packages\\python311\\site-packages (from pandas) (1.25.2)\n",
      "Requirement already satisfied: python-dateutil>=2.8.2 in c:\\users\\donkams\\appdata\\local\\packages\\pythonsoftwarefoundation.python.3.11_qbz5n2kfra8p0\\localcache\\local-packages\\python311\\site-packages (from pandas) (2.8.2)\n",
      "Requirement already satisfied: pytz>=2020.1 in c:\\users\\donkams\\appdata\\local\\packages\\pythonsoftwarefoundation.python.3.11_qbz5n2kfra8p0\\localcache\\local-packages\\python311\\site-packages (from pandas) (2023.3.post1)\n",
      "Requirement already satisfied: tzdata>=2022.1 in c:\\users\\donkams\\appdata\\local\\packages\\pythonsoftwarefoundation.python.3.11_qbz5n2kfra8p0\\localcache\\local-packages\\python311\\site-packages (from pandas) (2023.3)\n",
      "Requirement already satisfied: six>=1.5 in c:\\users\\donkams\\appdata\\local\\packages\\pythonsoftwarefoundation.python.3.11_qbz5n2kfra8p0\\localcache\\local-packages\\python311\\site-packages (from python-dateutil>=2.8.2->pandas) (1.16.0)\n",
      "Downloading pandas-2.1.4-cp311-cp311-win_amd64.whl (10.6 MB)\n",
      "   ---------------------------------------- 0.0/10.6 MB ? eta -:--:--\n",
      "   ---------------------------------------- 0.0/10.6 MB ? eta -:--:--\n",
      "   ---------------------------------------- 0.0/10.6 MB ? eta -:--:--\n",
      "   ---------------------------------------- 0.0/10.6 MB 217.9 kB/s eta 0:00:49\n",
      "   ---------------------------------------- 0.0/10.6 MB 217.9 kB/s eta 0:00:49\n",
      "   ---------------------------------------- 0.1/10.6 MB 251.0 kB/s eta 0:00:43\n",
      "   ---------------------------------------- 0.1/10.6 MB 280.5 kB/s eta 0:00:38\n",
      "   ---------------------------------------- 0.1/10.6 MB 379.3 kB/s eta 0:00:28\n",
      "    --------------------------------------- 0.2/10.6 MB 416.7 kB/s eta 0:00:26\n",
      "    --------------------------------------- 0.2/10.6 MB 478.0 kB/s eta 0:00:22\n",
      "    --------------------------------------- 0.2/10.6 MB 491.0 kB/s eta 0:00:22\n",
      "   - -------------------------------------- 0.3/10.6 MB 614.4 kB/s eta 0:00:17\n",
      "   - -------------------------------------- 0.4/10.6 MB 673.7 kB/s eta 0:00:16\n",
      "   - -------------------------------------- 0.5/10.6 MB 758.5 kB/s eta 0:00:14\n",
      "   -- ------------------------------------- 0.5/10.6 MB 814.7 kB/s eta 0:00:13\n",
      "   -- ------------------------------------- 0.6/10.6 MB 878.1 kB/s eta 0:00:12\n",
      "   -- ------------------------------------- 0.8/10.6 MB 1.0 MB/s eta 0:00:10\n",
      "   --- ------------------------------------ 1.0/10.6 MB 1.3 MB/s eta 0:00:08\n",
      "   --- ------------------------------------ 1.0/10.6 MB 1.3 MB/s eta 0:00:08\n",
      "   ---- ----------------------------------- 1.1/10.6 MB 1.3 MB/s eta 0:00:08\n",
      "   ---- ----------------------------------- 1.3/10.6 MB 1.4 MB/s eta 0:00:07\n",
      "   ----- ---------------------------------- 1.6/10.6 MB 1.6 MB/s eta 0:00:06\n",
      "   ------ --------------------------------- 1.8/10.6 MB 1.7 MB/s eta 0:00:06\n",
      "   ------- -------------------------------- 2.0/10.6 MB 1.8 MB/s eta 0:00:05\n",
      "   -------- ------------------------------- 2.2/10.6 MB 1.9 MB/s eta 0:00:05\n",
      "   -------- ------------------------------- 2.3/10.6 MB 2.0 MB/s eta 0:00:05\n",
      "   --------- ------------------------------ 2.6/10.6 MB 2.2 MB/s eta 0:00:04\n",
      "   ---------- ----------------------------- 2.8/10.6 MB 2.3 MB/s eta 0:00:04\n",
      "   ----------- ---------------------------- 3.0/10.6 MB 2.3 MB/s eta 0:00:04\n",
      "   ------------ --------------------------- 3.4/10.6 MB 2.5 MB/s eta 0:00:03\n",
      "   -------------- ------------------------- 3.7/10.6 MB 2.7 MB/s eta 0:00:03\n",
      "   --------------- ------------------------ 4.1/10.6 MB 2.8 MB/s eta 0:00:03\n",
      "   ---------------- ----------------------- 4.3/10.6 MB 2.9 MB/s eta 0:00:03\n",
      "   ----------------- ---------------------- 4.6/10.6 MB 3.0 MB/s eta 0:00:03\n",
      "   ------------------ --------------------- 4.9/10.6 MB 3.1 MB/s eta 0:00:02\n",
      "   ------------------- -------------------- 5.1/10.6 MB 3.1 MB/s eta 0:00:02\n",
      "   -------------------- ------------------- 5.5/10.6 MB 3.3 MB/s eta 0:00:02\n",
      "   ---------------------- ----------------- 5.9/10.6 MB 3.4 MB/s eta 0:00:02\n",
      "   ----------------------- ---------------- 6.3/10.6 MB 3.5 MB/s eta 0:00:02\n",
      "   ------------------------- -------------- 6.8/10.6 MB 3.7 MB/s eta 0:00:02\n",
      "   --------------------------- ------------ 7.2/10.6 MB 3.9 MB/s eta 0:00:01\n",
      "   ---------------------------- ----------- 7.6/10.6 MB 3.9 MB/s eta 0:00:01\n",
      "   ----------------------------- ---------- 7.9/10.6 MB 4.0 MB/s eta 0:00:01\n",
      "   ----------------------------- ---------- 7.9/10.6 MB 4.0 MB/s eta 0:00:01\n",
      "   ------------------------------ --------- 8.2/10.6 MB 4.0 MB/s eta 0:00:01\n",
      "   -------------------------------- ------- 8.6/10.6 MB 4.1 MB/s eta 0:00:01\n",
      "   ---------------------------------- ----- 9.1/10.6 MB 4.2 MB/s eta 0:00:01\n",
      "   ------------------------------------ --- 9.6/10.6 MB 4.3 MB/s eta 0:00:01\n",
      "   ------------------------------------- -- 10.1/10.6 MB 4.4 MB/s eta 0:00:01\n",
      "   ---------------------------------------  10.6/10.6 MB 5.8 MB/s eta 0:00:01\n",
      "   ---------------------------------------  10.6/10.6 MB 5.8 MB/s eta 0:00:01\n",
      "   ---------------------------------------- 10.6/10.6 MB 5.6 MB/s eta 0:00:00\n",
      "Installing collected packages: pandas\n",
      "  Attempting uninstall: pandas\n",
      "    Found existing installation: pandas 2.1.1\n",
      "    Uninstalling pandas-2.1.1:\n",
      "      Successfully uninstalled pandas-2.1.1\n",
      "Successfully installed pandas-2.1.4\n"
     ]
    },
    {
     "name": "stderr",
     "output_type": "stream",
     "text": [
      "  WARNING: Failed to remove contents in a temporary directory 'C:\\Users\\DONKAMS\\AppData\\Local\\Packages\\PythonSoftwareFoundation.Python.3.11_qbz5n2kfra8p0\\LocalCache\\local-packages\\Python311\\site-packages\\~andas.libs'.\n",
      "  You can safely remove it manually.\n",
      "  WARNING: Failed to remove contents in a temporary directory 'C:\\Users\\DONKAMS\\AppData\\Local\\Packages\\PythonSoftwareFoundation.Python.3.11_qbz5n2kfra8p0\\LocalCache\\local-packages\\Python311\\site-packages\\~andas'.\n",
      "  You can safely remove it manually.\n",
      "\n",
      "[notice] A new release of pip is available: 23.3.1 -> 23.3.2\n",
      "[notice] To update, run: C:\\Users\\DONKAMS\\AppData\\Local\\Microsoft\\WindowsApps\\PythonSoftwareFoundation.Python.3.11_qbz5n2kfra8p0\\python.exe -m pip install --upgrade pip\n"
     ]
    }
   ],
   "source": [
    "%pip install --upgrade pandas"
   ]
  },
  {
   "cell_type": "code",
   "execution_count": null,
   "metadata": {},
   "outputs": [],
   "source": [
    "from geopy.geocoders import Nominatim\n",
    "\n",
    "# Define the coordinates\n",
    "latitude = 12.1543668\n",
    "longitude = 9.1668921\n",
    "\n",
    "# Initialize the geolocator\n",
    "geolocator = Nominatim(user_agent=\"geoapiExercises\")\n",
    "\n",
    "# Try to reverse-geocode the coordinates to get the place information\n",
    "location = geolocator.reverse(f\"{latitude}, {longitude}\")\n",
    "\n",
    "# Extract the address information\n",
    "if location:\n",
    "    print(location.address)\n",
    "else:\n",
    "    print(\"Location information not found.\")\n"
   ]
  },
  {
   "cell_type": "markdown",
   "metadata": {},
   "source": [
    "<h1 align = 'center'> Data Cleaning</h1>"
   ]
  },
  {
   "cell_type": "code",
   "execution_count": null,
   "metadata": {},
   "outputs": [],
   "source": [
    "#filling the missing values "
   ]
  }
 ],
 "metadata": {
  "kernelspec": {
   "display_name": "Python 3",
   "language": "python",
   "name": "python3"
  },
  "language_info": {
   "codemirror_mode": {
    "name": "ipython",
    "version": 3
   },
   "file_extension": ".py",
   "mimetype": "text/x-python",
   "name": "python",
   "nbconvert_exporter": "python",
   "pygments_lexer": "ipython3",
   "version": "3.11.6"
  }
 },
 "nbformat": 4,
 "nbformat_minor": 2
}
